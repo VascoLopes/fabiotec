{
  "nbformat": 4,
  "nbformat_minor": 0,
  "metadata": {
    "colab": {
      "provenance": []
    },
    "kernelspec": {
      "name": "python3",
      "display_name": "Python 3"
    },
    "language_info": {
      "name": "python"
    }
  },
  "cells": [
    {
      "cell_type": "markdown",
      "source": [
        "# **Universidade da Beira Interior**\n",
        "\n",
        "# **1º Ciclo Biotecnologia - Ferramentas e Aplicações em Biotecnologia**\n",
        "\n",
        "**Prova de Avaliação - 02/11/2022**\n",
        "\n",
        "**Dados do Aluno:**\n",
        "\n",
        "> Numero:\n",
        "\n",
        "> Nome:\n",
        "\n",
        "* Esta prova é para avaliação de conhecimentos da linguagem de programação Python;\n",
        "* Boa Sorte!\n",
        "\n"
      ],
      "metadata": {
        "id": "NGRkZnmFi50p"
      }
    },
    {
      "cell_type": "markdown",
      "source": [
        "1. Escreva um programa que leia uma certa quantidade de dias, horas, minutos e segundos. Transforme o resultado e imprima-o em segundos."
      ],
      "metadata": {
        "id": "PPfAz_kMjCu8"
      }
    },
    {
      "cell_type": "code",
      "source": [],
      "metadata": {
        "id": "dtTROdFMjDwU"
      },
      "execution_count": null,
      "outputs": []
    },
    {
      "cell_type": "markdown",
      "source": [
        "2. Faça um programa para a leitura de duas notas de um aluno. O programa deve calcular a média alcançada por aluno e apresentar:\n",
        "* A mensagem \"Aprovado\", se a média alcançada for maior ou igual a 9,5;\n",
        "* A mensagem \"Reprovado\", se a média for menor do que 9,5;\n",
        "* A mensagem \"Aprovado com Distinção\", se a média for maior que 18."
      ],
      "metadata": {
        "id": "cXT8XmKmjHQv"
      }
    },
    {
      "cell_type": "code",
      "source": [],
      "metadata": {
        "id": "2DORiNYDjPJr"
      },
      "execution_count": null,
      "outputs": []
    },
    {
      "cell_type": "markdown",
      "source": [
        "3. Faça um programa que peça três números diferentes e imprima o maior deles."
      ],
      "metadata": {
        "id": "rFpA9R2BkYeR"
      }
    },
    {
      "cell_type": "code",
      "source": [],
      "metadata": {
        "id": "nsVooMR2kbui"
      },
      "execution_count": null,
      "outputs": []
    },
    {
      "cell_type": "markdown",
      "source": [
        "4. Calcule a área de um triângulo. Peça as medidas de cada lado ao utilizador."
      ],
      "metadata": {
        "id": "oR1Eg7LljQiX"
      }
    },
    {
      "cell_type": "code",
      "source": [],
      "metadata": {
        "id": "FDNSiJtQkcIw"
      },
      "execution_count": null,
      "outputs": []
    },
    {
      "cell_type": "markdown",
      "source": [
        "5. Escreva um programa para calcular a redução do tempo de vida de um fumante. Pergunte a quantidade de cigarros fumados por dia e quantos anos ele já fumou. Considere que um fumante perde 10 minutos de vida a cada cigarro, calcule quantos dias de vida um fumante perderá. Exiba o total de dias."
      ],
      "metadata": {
        "id": "gKlCJk1OlJyC"
      }
    },
    {
      "cell_type": "code",
      "source": [],
      "metadata": {
        "id": "ePDB_EJUlKTo"
      },
      "execution_count": null,
      "outputs": []
    },
    {
      "cell_type": "markdown",
      "source": [
        "6. Faça um programa que receba um número digitado pelo utilizador e calcule a soma de todos os números de 1 até ao número digitado. Por exemplo, se o utilizador digitou o número 5, a saída deve ser 15. Ou seja, 1+2+3+4+5."
      ],
      "metadata": {
        "id": "9tcD66rYkxv2"
      }
    },
    {
      "cell_type": "code",
      "source": [],
      "metadata": {
        "id": "htKf2VErkzIy"
      },
      "execution_count": null,
      "outputs": []
    },
    {
      "cell_type": "markdown",
      "source": [
        "7. Faça um programa que leia dois valores inteiros (\"m\" e \"n\"). Mostre a tabuada de m, começando em 1, até n."
      ],
      "metadata": {
        "id": "6V8aTMnfkcdX"
      }
    },
    {
      "cell_type": "code",
      "source": [],
      "metadata": {
        "id": "gGX-VpkgleWz"
      },
      "execution_count": null,
      "outputs": []
    },
    {
      "cell_type": "markdown",
      "source": [
        "8. Desenvolva um programa que apresente as somas dos valores pares e dos valores ímpares da sequência ([21, 5, 34, 8, 16, 7, 3])"
      ],
      "metadata": {
        "id": "hW_kRlJWlexK"
      }
    },
    {
      "cell_type": "code",
      "source": [],
      "metadata": {
        "id": "JOTNMeINl2vO"
      },
      "execution_count": null,
      "outputs": []
    },
    {
      "cell_type": "markdown",
      "source": [
        "9. Dado duas listas, imprima quantos elementos existem em comum. Pode usar as listas abaixo definidas sem ser necessário pedir ao utilizador para introduzir valores."
      ],
      "metadata": {
        "id": "9Vws7NkomMKk"
      }
    },
    {
      "cell_type": "code",
      "source": [],
      "metadata": {
        "id": "s_TMJE5UmVsb"
      },
      "execution_count": null,
      "outputs": []
    },
    {
      "cell_type": "markdown",
      "source": [
        "10. Defina uma função que calcula o novo preço de um produto dado uma percentagem de desconto. Teste o resultado desta função pelo menos 3 vezes com diferentes preços iniciais e descontos."
      ],
      "metadata": {
        "id": "6m2rJgm2ocYi"
      }
    },
    {
      "cell_type": "code",
      "source": [],
      "metadata": {
        "id": "9IjuPKGRocz5"
      },
      "execution_count": null,
      "outputs": []
    },
    {
      "cell_type": "markdown",
      "source": [
        "11. Encontre e corrija os erros no código apresentado abaixo para que este funcione corretamente. O objetivo é que este código seja capaz de calcular a área de um círculo e apresentar o resultado. Teste calculando as áreas para diferentes raios."
      ],
      "metadata": {
        "id": "tCE79KKem6PW"
      }
    },
    {
      "cell_type": "code",
      "source": [
        "from math import pi\n",
        "\n",
        "def calcular_area_circulo(raio):\n",
        "  area = pi * raio * 2\n",
        "  return area\n",
        "\n",
        "raios = [1, 5, 10, '15']\n",
        "\n",
        "for r in raios:\n",
        "  area = calcular_area_circulo(r)\n",
        "print(\"Área círculo:\", area)"
      ],
      "metadata": {
        "id": "2UAqzQcpnlVt"
      },
      "execution_count": null,
      "outputs": []
    },
    {
      "cell_type": "code",
      "source": [],
      "metadata": {
        "id": "xN-8D0mcx72Z"
      },
      "execution_count": null,
      "outputs": []
    }
  ]
}